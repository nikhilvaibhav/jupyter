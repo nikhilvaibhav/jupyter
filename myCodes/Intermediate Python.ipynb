{
 "cells": [
  {
   "cell_type": "code",
   "execution_count": 3,
   "metadata": {},
   "outputs": [
    {
     "name": "stdout",
     "output_type": "stream",
     "text": [
      "['banana', True, 4, 5]\n",
      "banana True 4 5 "
     ]
    }
   ],
   "source": [
    "#list\n",
    "\n",
    "mylist = [\"banana\", True, 4, 5]\n",
    "print(mylist)\n",
    "\n",
    "for i in mylist:\n",
    "    print(i, end = \" \")"
   ]
  },
  {
   "cell_type": "code",
   "execution_count": 7,
   "metadata": {},
   "outputs": [
    {
     "name": "stdout",
     "output_type": "stream",
     "text": [
      "<class 'function'>\n"
     ]
    }
   ],
   "source": [
    "#everything that we do in python is actually an object fronm some other class\n",
    "def wish():\n",
    "    print(\"hey there\")\n",
    "print(type(wish))"
   ]
  },
  {
   "cell_type": "code",
   "execution_count": 15,
   "metadata": {},
   "outputs": [
    {
     "name": "stdout",
     "output_type": "stream",
     "text": [
      "2 hey\n"
     ]
    }
   ],
   "source": [
    "x = 2\n",
    "y = \"hey\"\n",
    "print(x,  y)"
   ]
  },
  {
   "cell_type": "code",
   "execution_count": 22,
   "metadata": {},
   "outputs": [
    {
     "name": "stdout",
     "output_type": "stream",
     "text": [
      "Dog is barking\n",
      "<class '__main__.Dog'>\n",
      "<class 'type'>\n",
      "<class 'method'>\n"
     ]
    }
   ],
   "source": [
    "#object oriented programming language in python\n",
    "\n",
    "class Dog:\n",
    "    def bark(self):\n",
    "        print(\"Dog is barking\")\n",
    "    def running(self):\n",
    "        print(\"rusty is running\")\n",
    "    \n",
    "d =Dog()\n",
    "d.bark()\n",
    "print(type(d))\n",
    "print(type(Dog))\n",
    "print(type(d.bark))"
   ]
  },
  {
   "cell_type": "code",
   "execution_count": 39,
   "metadata": {},
   "outputs": [
    {
     "name": "stdout",
     "output_type": "stream",
     "text": [
      "Rusty\n",
      "dog is barking buddy\n",
      "Rusty the dod is running\n",
      "Bimbo\n",
      "dog is barking buddy\n"
     ]
    }
   ],
   "source": [
    "class Dog:\n",
    "    def __init__(self, name):\n",
    "        self.name = name\n",
    "        print(name)\n",
    "        \n",
    "    def bark(self):\n",
    "        print( \"dog is barking buddy\")\n",
    "    def running(self):\n",
    "        print(self.name, \"the dod is running\")\n",
    "d = Dog(\"Rusty\")\n",
    "d.bark()\n",
    "d.running()\n",
    "d2 = Dog(\"Bimbo\")\n",
    "d2.bark()"
   ]
  },
  {
   "cell_type": "code",
   "execution_count": 57,
   "metadata": {},
   "outputs": [
    {
     "name": "stdout",
     "output_type": "stream",
     "text": [
      "Chaipaati\n",
      "23\n",
      "45\n"
     ]
    }
   ],
   "source": [
    "#self keyword\n",
    "class Cat:\n",
    "    def __init__(self, name, age):\n",
    "        self.name = name\n",
    "        self.age = age\n",
    "        \n",
    "    def get_name(self):\n",
    "        print(self.name)\n",
    "    def get_age(self):\n",
    "        print(self.age)\n",
    "    def set_age(self,age):\n",
    "        self.age = age\n",
    "        print(age)\n",
    "        \n",
    "c = Cat(\"Chaipaati\", 23)\n",
    "c.get_name()\n",
    "c.get_age()\n",
    "c.set_age(45)\n"
   ]
  },
  {
   "cell_type": "code",
   "execution_count": 60,
   "metadata": {},
   "outputs": [
    {
     "ename": "AttributeError",
     "evalue": "'Course' object has no attribute 'get_student'",
     "output_type": "error",
     "traceback": [
      "\u001b[1;31m---------------------------------------------------------------------------\u001b[0m",
      "\u001b[1;31mAttributeError\u001b[0m                            Traceback (most recent call last)",
      "\u001b[1;32m<ipython-input-60-52d7a8f6bee5>\u001b[0m in \u001b[0;36m<module>\u001b[1;34m\u001b[0m\n\u001b[0;32m     21\u001b[0m \u001b[0ms1\u001b[0m\u001b[1;33m.\u001b[0m\u001b[0mget_grade\u001b[0m\u001b[1;33m(\u001b[0m\u001b[1;33m)\u001b[0m\u001b[1;33m\u001b[0m\u001b[1;33m\u001b[0m\u001b[0m\n\u001b[0;32m     22\u001b[0m \u001b[0mc1\u001b[0m \u001b[1;33m=\u001b[0m \u001b[0mCourse\u001b[0m\u001b[1;33m(\u001b[0m\u001b[1;34m\"CODE\"\u001b[0m\u001b[1;33m,\u001b[0m \u001b[1;36m2\u001b[0m\u001b[1;33m)\u001b[0m\u001b[1;33m\u001b[0m\u001b[1;33m\u001b[0m\u001b[0m\n\u001b[1;32m---> 23\u001b[1;33m \u001b[0mc1\u001b[0m\u001b[1;33m.\u001b[0m\u001b[0mget_student\u001b[0m\u001b[1;33m(\u001b[0m\u001b[0ms1\u001b[0m\u001b[1;33m)\u001b[0m\u001b[1;33m\u001b[0m\u001b[1;33m\u001b[0m\u001b[0m\n\u001b[0m",
      "\u001b[1;31mAttributeError\u001b[0m: 'Course' object has no attribute 'get_student'"
     ]
    }
   ],
   "source": [
    "class Students:\n",
    "    def __init__(self,name, age, grade):\n",
    "        self.name = name\n",
    "        self.age = age\n",
    "        self.grade = grade\n",
    "        \n",
    "    def get_grade(self):\n",
    "        return self.grade\n",
    "    \n",
    "class Course:\n",
    "    def __init__(self, name, max_students):\n",
    "        self.name = name\n",
    "        self.max_students = max_students\n",
    "    \n",
    "    def get_students(self, student):\n",
    "        self.student = student\n",
    "        print(self.student)\n",
    "        \n",
    "s1 = Students(\"NICK\", 23, 56)\n",
    "s2 = Students(\"PATRCIK\", 21, 54)\n",
    "s1.get_grade()\n",
    "c1 = Course(\"CODE\", 2)\n",
    "c1.get_student(s1)"
   ]
  },
  {
   "cell_type": "code",
   "execution_count": null,
   "metadata": {},
   "outputs": [],
   "source": []
  },
  {
   "cell_type": "code",
   "execution_count": 79,
   "metadata": {},
   "outputs": [
    {
     "name": "stdout",
     "output_type": "stream",
     "text": [
      "kiki\n",
      "22\n",
      "Doggy\n",
      "34\n"
     ]
    }
   ],
   "source": [
    "#inheritance\n",
    "class Pet:\n",
    "    def __init__(self, name, age):\n",
    "        self.name = name\n",
    "        self.age = age\n",
    "    def show(self):\n",
    "        print(self.name)\n",
    "        print(self.age)\n",
    "class Dog(Pet):\n",
    "    def sound(self):\n",
    "        print(\"bark\")\n",
    "class Cat(Pet):\n",
    "    def sound(self):\n",
    "        print(\"meow\")\n",
    "        \n",
    "#p = Pet(\"Kity\", 23)\n",
    "#p.show()\n",
    "c = Cat(\"kiki\", 22)\n",
    "c.show()\n",
    "d = Dog(\"Doggy\", 34)\n",
    "d.show()\n"
   ]
  },
  {
   "cell_type": "code",
   "execution_count": 2,
   "metadata": {},
   "outputs": [
    {
     "name": "stdout",
     "output_type": "stream",
     "text": [
      "6\n",
      "10 20 10 20 30 30\n",
      "3\n"
     ]
    }
   ],
   "source": [
    "#warmup problem\n",
    "#socks pair problem\n",
    "from collections import Counter\n",
    "s = 0\n",
    "n = int(input())\n",
    "ar = map(int, input().split())\n",
    "for total in Counter(ar).values():\n",
    "    s += total//2\n",
    "print (s)\n"
   ]
  },
  {
   "cell_type": "code",
   "execution_count": null,
   "metadata": {},
   "outputs": [],
   "source": [
    "#input = 8\n",
    "#steps = U D D U U D D U\n",
    "def countingValleys(n, s):\n",
    "    level = 0\n",
    "    valleys = 0\n",
    "    for direction in s:\n",
    "        if direction == \"U\":\n",
    "            level += 1\n",
    "            if level == 0:\n",
    "                valleys += 1\n",
    "        else:\n",
    "            level -= 1\n",
    "             \n",
    "    return valleys\n",
    "\n",
    "n = int(input().strip())\n",
    "s = input()\n",
    "result = countingvalley(n, s)"
   ]
  },
  {
   "cell_type": "code",
   "execution_count": 27,
   "metadata": {},
   "outputs": [
    {
     "name": "stdout",
     "output_type": "stream",
     "text": [
      "6\n",
      "0 0 1 0 1 0\n",
      "[0, 0, 1, 0, 1, 0]\n"
     ]
    }
   ],
   "source": [
    "#jumping clouds \n",
    "\n",
    "n = int(input())\n",
    "step = list(map(int,input().split()))\n",
    "print(step)\n",
    "jumps = 0\n",
    "for i in range (step):\n",
    "    if step[i] == 0 and step[i+1] ==0:\n",
    "        jumps += 1\n",
    "    \n",
    "    \n",
    "    \n"
   ]
  },
  {
   "cell_type": "code",
   "execution_count": 5,
   "metadata": {},
   "outputs": [
    {
     "name": "stdout",
     "output_type": "stream",
     "text": [
      "10\n",
      "[20, 30]\n"
     ]
    }
   ],
   "source": [
    "a, *b = 10, 20, 30\n",
    "print(a)\n",
    "print(b)"
   ]
  }
 ],
 "metadata": {
  "kernelspec": {
   "display_name": "Python 3",
   "language": "python",
   "name": "python3"
  },
  "language_info": {
   "codemirror_mode": {
    "name": "ipython",
    "version": 3
   },
   "file_extension": ".py",
   "mimetype": "text/x-python",
   "name": "python",
   "nbconvert_exporter": "python",
   "pygments_lexer": "ipython3",
   "version": "3.8.3"
  }
 },
 "nbformat": 4,
 "nbformat_minor": 4
}
